{
  "nbformat": 4,
  "nbformat_minor": 0,
  "metadata": {
    "colab": {
      "provenance": [],
      "authorship_tag": "ABX9TyOJpCD/5JLtDIHz1VlOyrTx",
      "include_colab_link": true
    },
    "kernelspec": {
      "name": "python3",
      "display_name": "Python 3"
    },
    "language_info": {
      "name": "python"
    }
  },
  "cells": [
    {
      "cell_type": "markdown",
      "metadata": {
        "id": "view-in-github",
        "colab_type": "text"
      },
      "source": [
        "<a href=\"https://colab.research.google.com/github/JasonCFowler/DigitalRepos/blob/master/MARC_CSV_Merge_Script.ipynb\" target=\"_parent\"><img src=\"https://colab.research.google.com/assets/colab-badge.svg\" alt=\"Open In Colab\"/></a>"
      ]
    },
    {
      "cell_type": "code",
      "source": [
        "# Section 1: Install Pymarc\n",
        "# -------------------------\n",
        "!pip install pymarc\n",
        "# Section 2: Import Required Libraries\n",
        "# ------------------------------------\n",
        "import csv\n",
        "import pymarc"
      ],
      "metadata": {
        "colab": {
          "base_uri": "https://localhost:8080/"
        },
        "id": "KMEsf0fCZ02n",
        "outputId": "d3be2501-efd0-4d94-d264-71e674e16b45"
      },
      "execution_count": 96,
      "outputs": [
        {
          "output_type": "stream",
          "name": "stdout",
          "text": [
            "Requirement already satisfied: pymarc in /usr/local/lib/python3.10/dist-packages (5.1.0)\n"
          ]
        }
      ]
    },
    {
      "cell_type": "code",
      "source": [
        "# Section 3: Define Function to Add 949 Field\n",
        "# -------------------------------------------\n",
        "def add_949_to_marc(marc_record, data_from_csv):\n",
        "    # Subfield h is the OCLC branch, subfield l is the shelving location,\n",
        "    # and subfield p is the fund code\n",
        "    field = pymarc.Field(\n",
        "        tag='949',\n",
        "        indicators=[' ', ' '],\n",
        "        subfields=[\n",
        "            pymarc.Subfield(code='h', value='5053'),\n",
        "            pymarc.Subfield(code='l', value='Unspecified'),\n",
        "            pymarc.Subfield(code='p', value='EBOOKS OTHER')\n",
        "        ]\n",
        "    )\n",
        "    marc_record.add_field(field)"
      ],
      "metadata": {
        "id": "ypAM92fVaicE"
      },
      "execution_count": 98,
      "outputs": []
    },
    {
      "cell_type": "code",
      "source": [
        "# Section 4: Define Function to Add 980 Field\n",
        "# -------------------------------------------\n",
        "def add_980_to_marc(marc_record, data_from_csv):\n",
        "    # Subfield b is the unit price, subfield c is the service charge,\n",
        "    # subfield h is the tax percentage, subfield i is the discount percentage,\n",
        "    # subfield k is the isbn, and subfield z is the currency of the purchase order\n",
        "    field = pymarc.Field(\n",
        "        tag='980',\n",
        "        indicators=[' ', ' '],\n",
        "        subfields=[\n",
        "            pymarc.Subfield(code='b', value=data_from_csv.get('UnitPrice', ' ')),\n",
        "            pymarc.Subfield(code='i', value=data_from_csv.get('DiscountPercentage', ' ')),\n",
        "            pymarc.Subfield(code='k', value=data_from_csv.get('ISBN', ' ')),\n",
        "            pymarc.Subfield(code='z', value='USD')\n",
        "        ]\n",
        "    )\n",
        "    marc_record.add_field(field)"
      ],
      "metadata": {
        "id": "4lRzlZ2YalV-"
      },
      "execution_count": 99,
      "outputs": []
    },
    {
      "cell_type": "code",
      "source": [
        "# Section 5: Define Function to Add 981 Field\n",
        "# -------------------------------------------\n",
        "def add_981_to_marc(marc_record, data_from_csv):\n",
        "    # Subfield a is the KB Collection Identifier,\n",
        "    # subfield b is the KB Title Identifier, and\n",
        "    # subfield n is the Vendor Order Number\n",
        "    field = pymarc.Field(\n",
        "        tag='981',\n",
        "        indicators=[' ', ' '],\n",
        "        subfields=[\n",
        "            pymarc.Subfield(code='a', value='netlibrary.ebooks'),\n",
        "            pymarc.Subfield(code='b', value=data_from_csv.get('KBTitleIdentifier', ' ')),\n",
        "            pymarc.Subfield(code='n', value=data_from_csv.get('VendorOrderNumber', ' '))\n",
        "        ]\n",
        "    )\n",
        "    marc_record.add_field(field)\n"
      ],
      "metadata": {
        "id": "3mgAd9G0au0F"
      },
      "execution_count": 100,
      "outputs": []
    },
    {
      "cell_type": "code",
      "source": [
        "# Section 6: Function to match and update MARC records based on ISBN\n",
        "def update_marc_records(marc_file_path, csv_file_path):\n",
        "    # Read MARC records\n",
        "    with open(marc_file_path, 'rb') as marc_file:\n",
        "        reader = MARCReader(marc_file)\n",
        "        records = list(reader)\n",
        "\n",
        "    # Read CSV data\n",
        "    with open(csv_file_path, 'r') as csv_file:\n",
        "        csv_reader = csv.DictReader(csv_file)\n",
        "        for row in csv_reader:\n",
        "            isbn = row['\\ufeffISBN']  # Modify this line\n",
        "\n",
        "            # Match MARC record using ISBN\n",
        "            matched_record = None\n",
        "            for record in records:\n",
        "              # Add your matching criteria here\n",
        "              isbns = [field['a'] for field in record.get_fields('020') if 'a' in field]\n",
        "              print(f\"MARC Record ISBNs: {isbns}\")\n",
        "              print(f\"ISBN to Match: {isbn}\")\n",
        "              if any(isbn == record_isbn for record_isbn in isbns):\n",
        "                matched_record = record\n",
        "                break\n",
        "\n",
        "            # Update MARC record with 949, 980, and 981 fields\n",
        "            if matched_record:\n",
        "                print(f\"Processing ISBN: {isbn}\")\n",
        "                try:\n",
        "                    add_949_to_marc(matched_record, row)\n",
        "                    add_980_to_marc(matched_record, row)\n",
        "                    add_981_to_marc(matched_record, row)\n",
        "                except KeyError as e:\n",
        "                    print(f\"KeyError: {e}\")\n",
        "\n",
        "    # Write updated MARC records to a new file\n",
        "    with open('updated_marc_records.mrc', 'wb') as updated_marc_file:\n",
        "        for record in records:\n",
        "            updated_marc_file.write(record.as_marc())\n",
        "\n"
      ],
      "metadata": {
        "id": "nMqPdxvKnu_V"
      },
      "execution_count": 112,
      "outputs": []
    },
    {
      "cell_type": "code",
      "source": [
        "# Section 7: Execute\n",
        "if __name__ == \"__main__\":\n",
        "    # Specify file paths\n",
        "    marc_file_path = 'OrderID_4673997_20231114_UTF8.mrc'\n",
        "    csv_file_path = 'your_csv_file-test.csv'\n",
        "\n",
        "    # Call the function to update MARC records\n",
        "    update_marc_records(marc_file_path, csv_file_path)\n"
      ],
      "metadata": {
        "colab": {
          "base_uri": "https://localhost:8080/"
        },
        "id": "ZiRoWodrpN6q",
        "outputId": "699b0263-795c-456b-a84b-7eb511542cf0"
      },
      "execution_count": 113,
      "outputs": [
        {
          "output_type": "stream",
          "name": "stdout",
          "text": [
            "MARC Record ISBNs: ['1087764939', '9781087764931']\n",
            "ISBN to Match: 9781087764931\n",
            "Processing ISBN: 9781087764931\n",
            "MARC Record ISBNs: ['1087764939', '9781087764931']\n",
            "ISBN to Match: 9781629958545\n",
            "MARC Record ISBNs: ['9781629958545', '1629958549']\n",
            "ISBN to Match: 9781629958545\n",
            "Processing ISBN: 9781629958545\n",
            "MARC Record ISBNs: ['1087764939', '9781087764931']\n",
            "ISBN to Match: 9781629955346\n",
            "MARC Record ISBNs: ['9781629958545', '1629958549']\n",
            "ISBN to Match: 9781629955346\n",
            "MARC Record ISBNs: ['9781629955346', '1629955345']\n",
            "ISBN to Match: 9781629955346\n",
            "Processing ISBN: 9781629955346\n"
          ]
        }
      ]
    },
    {
      "cell_type": "code",
      "source": [
        "import csv\n",
        "\n",
        "csv_file_path = 'your_csv_file-test.csv'  # Replace with your actual CSV file path\n",
        "\n",
        "# Print the first few rows of the CSV file\n",
        "with open(csv_file_path, 'r') as csv_file:\n",
        "    csv_reader = csv.reader(csv_file)\n",
        "    for i, row in enumerate(csv_reader):\n",
        "        print(row)\n",
        "        if i == 5:  # Print only the first 5 rows for inspection\n",
        "            break"
      ],
      "metadata": {
        "colab": {
          "base_uri": "https://localhost:8080/"
        },
        "id": "zwXC2RQLmOBn",
        "outputId": "38ee7b04-c065-4962-cc86-83c7db29e357"
      },
      "execution_count": 104,
      "outputs": [
        {
          "output_type": "stream",
          "name": "stdout",
          "text": [
            "['\\ufeffISBN', 'KB_Collection_ID', 'ShelvingLocation', 'FundCode', 'UnitPrice', 'ServiceCharge', 'TaxPercentage', 'DiscountPercentage', 'KB_Title_ID', 'Vendor_Order_Number', 'Title', 'Author', 'Date', 'Publisher']\n",
            "['9781087764931', 'netlibrary.ebooks', 'Unspecified', 'EBOOKS OTHER', '$29.99 ', '0', '7.5', '30', 'KB_Title_456', 'VN123456', 'Pastoring Small Towns', '', '2022', 'Sample Publisher']\n",
            "['9781629958545', 'netlibrary.ebooks', 'Unspecified', 'EBOOKS OTHER', '$14.99 ', '0', '7.5', '30', 'KB_Title_012', 'VN789012', 'Alvin Plantinga', '', '2021', 'Another Publisher']\n",
            "['9781629955346', 'netlibrary.ebooks', 'Unspecified', 'EBOOKS OTHER', '$28.49 ', '0', '7.5', '30', 'KB_Title_789', 'VN456789', \"The Shepherd's Toolbox: Advancing Your Church's Shepherding Ministry\", '', '2020', 'Yet Another Publisher']\n"
          ]
        }
      ]
    }
  ]
}