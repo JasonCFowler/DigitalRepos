{
  "cells": [
    {
      "cell_type": "markdown",
      "metadata": {
        "id": "view-in-github",
        "colab_type": "text"
      },
      "source": [
        "<a href=\"https://colab.research.google.com/github/JasonCFowler/DigitalRepos/blob/master/MARC_CSV_Merge_Script.ipynb\" target=\"_parent\"><img src=\"https://colab.research.google.com/assets/colab-badge.svg\" alt=\"Open In Colab\"/></a>"
      ]
    },
    {
      "cell_type": "code",
      "execution_count": 36,
      "metadata": {
        "colab": {
          "base_uri": "https://localhost:8080/"
        },
        "id": "KMEsf0fCZ02n",
        "outputId": "242740a4-c81f-4b96-8a06-ed9de849ee70"
      },
      "outputs": [
        {
          "output_type": "stream",
          "name": "stdout",
          "text": [
            "Requirement already satisfied: pymarc in /usr/local/lib/python3.10/dist-packages (5.1.0)\n"
          ]
        }
      ],
      "source": [
        "# Section 1: Install Pymarc\n",
        "# -------------------------\n",
        "!pip install pymarc\n",
        "# Section 2: Import Required Libraries\n",
        "# ------------------------------------\n",
        "import csv\n",
        "from pymarc import MARCReader, Field, Subfield\n",
        "import pymarc"
      ]
    },
    {
      "cell_type": "code",
      "execution_count": 37,
      "metadata": {
        "id": "ypAM92fVaicE"
      },
      "outputs": [],
      "source": [
        "# Section 3: Define Function to Add 949 Field\n",
        "# -------------------------------------------\n",
        "def add_949_to_marc(marc_record, data_from_csv):\n",
        "    # Subfield h is the OCLC branch, subfield l is the shelving location,\n",
        "    # and subfield p is the fund code\n",
        "    field = pymarc.Field(\n",
        "        tag='949',\n",
        "        indicators=[' ', ' '],\n",
        "        subfields=[\n",
        "            pymarc.Subfield(code='h', value='5053'),\n",
        "            pymarc.Subfield(code='l', value='Unspecified'),\n",
        "            pymarc.Subfield(code='p', value=data_from_csv.get('FundCode', ' '))\n",
        "        ]\n",
        "    )\n",
        "    marc_record.add_field(field)"
      ]
    },
    {
      "cell_type": "code",
      "execution_count": 38,
      "metadata": {
        "id": "4lRzlZ2YalV-"
      },
      "outputs": [],
      "source": [
        "# Section 4: Define Function to Add 980 Field\n",
        "# -------------------------------------------\n",
        "def add_980_to_marc(marc_record, data_from_csv):\n",
        "    # Subfield b is the unit price, subfield c is the service charge,\n",
        "    # subfield h is the tax percentage, subfield i is the discount percentage,\n",
        "    # subfield k is the isbn, and subfield z is the currency of the purchase order\n",
        "    field = pymarc.Field(\n",
        "        tag='980',\n",
        "        indicators=[' ', ' '],\n",
        "        subfields=[\n",
        "            pymarc.Subfield(code='b', value=data_from_csv.get('UnitPrice', ' ')),\n",
        "            pymarc.Subfield(code='i', value=data_from_csv.get('DiscountPercentage', ' ')),\n",
        "            pymarc.Subfield(code='k', value=data_from_csv.get('ISBN', ' ')),\n",
        "            pymarc.Subfield(code='z', value='USD')\n",
        "        ]\n",
        "    )\n",
        "    marc_record.add_field(field)"
      ]
    },
    {
      "cell_type": "code",
      "execution_count": 39,
      "metadata": {
        "id": "3mgAd9G0au0F"
      },
      "outputs": [],
      "source": [
        "# Section 5: Define Function to Add 981 Field\n",
        "# -------------------------------------------\n",
        "def add_981_to_marc(marc_record, data_from_csv):\n",
        "    # Subfield a is the KB Collection Identifier,\n",
        "    # subfield b is the KB Title Identifier, and\n",
        "    # subfield n is the Vendor Order Number\n",
        "    field = pymarc.Field(\n",
        "        tag='981',\n",
        "        indicators=[' ', ' '],\n",
        "        subfields=[\n",
        "            pymarc.Subfield(code='a', value=data_from_csv.get('KB_Collection_ID', ' ')),\n",
        "            pymarc.Subfield(code='b', value=data_from_csv.get('KB_Title_ID', ' ')),\n",
        "            pymarc.Subfield(code='n', value=data_from_csv.get('VendorOrderNumber', ' '))\n",
        "        ]\n",
        "    )\n",
        "    marc_record.add_field(field)\n"
      ]
    },
    {
      "cell_type": "code",
      "execution_count": 40,
      "metadata": {
        "id": "nMqPdxvKnu_V"
      },
      "outputs": [],
      "source": [
        "# Section 6: Function to match and update MARC records based on ISBN\n",
        "def update_marc_records(marc_file_path, csv_file_path):\n",
        "    # Read MARC records\n",
        "    with open(marc_file_path, 'rb') as marc_file:\n",
        "        reader = MARCReader(marc_file)\n",
        "        records = list(reader)\n",
        "\n",
        "    # Read CSV data\n",
        "    with open(csv_file_path, 'r') as csv_file:\n",
        "        csv_reader = csv.DictReader(csv_file)\n",
        "        for row in csv_reader:\n",
        "            isbn = row.get('ISBN', row.get('\\ufeffISBN'))  # Modified this line\n",
        "\n",
        "            # Match MARC record using ISBN\n",
        "            matched_record = None\n",
        "            for record in records:\n",
        "                # Add your matching criteria here\n",
        "                isbns = [field['a'] for field in record.get_fields('020') if 'a' in field]\n",
        "                print(f\"MARC Record ISBNs: {isbns}\")\n",
        "                print(f\"ISBN to Match: {isbn}\")\n",
        "                if any(isbn == record_isbn for record_isbn in isbns):\n",
        "                    matched_record = record\n",
        "                    break\n",
        "\n",
        "            # Update MARC record with 949, 980, and 981 fields\n",
        "            if matched_record:\n",
        "                print(f\"Processing ISBN: {isbn}\")\n",
        "                try:\n",
        "                    add_949_to_marc(matched_record, row)\n",
        "                    add_980_to_marc(matched_record, row)\n",
        "                    add_981_to_marc(matched_record, row)\n",
        "                except KeyError as e:\n",
        "                    print(f\"KeyError: {e}\")\n",
        "\n",
        "    # Write updated MARC records to a new file\n",
        "    with open('updated_marc_records.mrc', 'wb') as updated_marc_file:\n",
        "        for record in records:\n",
        "            updated_marc_file.write(record.as_marc())\n"
      ]
    },
    {
      "cell_type": "code",
      "execution_count": null,
      "metadata": {
        "id": "ZiRoWodrpN6q"
      },
      "outputs": [],
      "source": [
        "# Section 7: Execute\n",
        "if __name__ == \"__main__\":\n",
        "    # Specify file paths\n",
        "    marc_file_path = '/content/CombinedOrders.mrc'\n",
        "    csv_file_path = '/content/your_csv_file-test-processed202311230752.csv'\n",
        "\n",
        "    # Call the function to update MARC records\n",
        "    update_marc_records(marc_file_path, csv_file_path)\n"
      ]
    },
    {
      "cell_type": "code",
      "execution_count": 42,
      "metadata": {
        "id": "zwXC2RQLmOBn",
        "colab": {
          "base_uri": "https://localhost:8080/"
        },
        "outputId": "b68e24e3-dd3e-4d0c-a28d-bf6e6ba4681d"
      },
      "outputs": [
        {
          "output_type": "stream",
          "name": "stdout",
          "text": [
            "['ISBN', 'KB_Collection_ID', 'ShelvingLocation', 'FundCode', 'UnitPrice', 'ServiceCharge', 'TaxPercentage', 'DiscountPercentage', 'KB_Title_ID', 'Vendor_Order_Number', 'Title', 'Author', 'Date', 'Publisher']\n",
            "['9781467463102', 'netlibrary.ebooks', 'Unspecified', 'EBOOKS OTHER', '$59.99', '', '', '', '2274fd7b-8049-4b30-922e-0a8e95046b01-emi', '', 'The Incomparable God', '', '', '']\n",
            "['9780830855162', 'netlibrary.ebooks', 'Unspecified', 'EBOOKS OTHER', '$32.49', '', '', '', '600dff17-b2f1-4f69-bd00-dd5408b350ba-emi', '', 'How Do We Reason?', '', '', '']\n",
            "['9781433559945', 'netlibrary.ebooks', 'Unspecified', 'EBOOKS OTHER', '$49.99', '', '', '', 'e729a5a9-88c6-48fa-948b-7e894e3b16e0-emi', '', 'Reformed Systematic Theology, Volume 3', '', '', '']\n",
            "['9781467462297', 'netlibrary.ebooks', 'Unspecified', 'EBOOKS OTHER', '$50.00', '', '', '', '8055af33-0a9a-44bc-b2e5-6cae242ed12b-emi', '', 'A Companion to the Theology of John Webster', '', '', '']\n",
            "['9780310124313', 'netlibrary.ebooks', 'Unspecified', 'EBOOKS OTHER', '$155.22', '', '', '', '2ae38180-2108-4777-91bb-ca7d01dc1540-emi', '', 'Bible Doctrine, Second Edition', '', '', '']\n"
          ]
        }
      ],
      "source": [
        "# Print the first few rows of the CSV file\n",
        "# This is used for troubleshooting the CSV file\n",
        "# It's not part of the actual code\n",
        "\n",
        "with open(csv_file_path, 'r') as csv_file:\n",
        "    csv_reader = csv.reader(csv_file)\n",
        "    for i, row in enumerate(csv_reader):\n",
        "        print(row)\n",
        "        if i == 5:  # Print only the first 5 rows for inspection\n",
        "            break"
      ]
    },
    {
      "cell_type": "code",
      "source": [],
      "metadata": {
        "id": "iNMlZshSeE5s"
      },
      "execution_count": 42,
      "outputs": []
    }
  ],
  "metadata": {
    "colab": {
      "provenance": [],
      "authorship_tag": "ABX9TyPyNH2/VCUsjlpIyZ2An1oF",
      "include_colab_link": true
    },
    "kernelspec": {
      "display_name": "Python 3",
      "name": "python3"
    },
    "language_info": {
      "name": "python"
    }
  },
  "nbformat": 4,
  "nbformat_minor": 0
}